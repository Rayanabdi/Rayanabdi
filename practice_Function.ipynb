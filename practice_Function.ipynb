{
  "cells": [
    {
      "cell_type": "markdown",
      "metadata": {
        "id": "view-in-github",
        "colab_type": "text"
      },
      "source": [
        "<a href=\"https://colab.research.google.com/github/Rayanabdi/Rayanabdi/blob/main/practice_Function.ipynb\" target=\"_parent\"><img src=\"https://colab.research.google.com/assets/colab-badge.svg\" alt=\"Open In Colab\"/></a>"
      ]
    },
    {
      "cell_type": "markdown",
      "id": "3b48eb91-ac27-41a2-a953-5efe67dcb0dc",
      "metadata": {
        "id": "3b48eb91-ac27-41a2-a953-5efe67dcb0dc"
      },
      "source": [
        "## **🧑🏻‍💻 Python Practice (Function)**\n",
        "\n",
        "Mohammad H Choobin"
      ]
    },
    {
      "cell_type": "markdown",
      "id": "2798d4ba-f497-4fd9-a694-5da5f2869fb7",
      "metadata": {
        "id": "2798d4ba-f497-4fd9-a694-5da5f2869fb7"
      },
      "source": [
        "---\n",
        "### **01: Maximum of two numbers**\n",
        "* Make the function that takes two numbers as input  \n",
        "* Returns the maximum of them\n",
        "\n",
        "🚧 Do not use bulit-in function. ---> max()\n",
        "\n",
        "example:\n",
        "```Python\n",
        "def max_of_two(num_01, num_02):\n",
        "    # Your code here\n",
        "    pass\n",
        "\n",
        "max_of_two(num_01=5, num_02=7)       ➞ 7\n",
        "```"
      ]
    },
    {
      "cell_type": "code",
      "execution_count": null,
      "id": "cf1b2b1b-514d-44db-95df-00ab3b708193",
      "metadata": {
        "id": "cf1b2b1b-514d-44db-95df-00ab3b708193"
      },
      "outputs": [],
      "source": [
        "def max_of_two(num_01, num_02):\n",
        "    if num_01 > num_02:\n",
        "        return num_01\n",
        "    else:\n",
        "        return num_02\n",
        "\n",
        "max_of_two()"
      ]
    },
    {
      "cell_type": "code",
      "source": [
        "def max2():\n",
        "  while True:\n",
        "    try:\n",
        "      x = int(input(\"Enter your first number:\\n\"))\n",
        "      y = int(input(\"Enter your second number:\\n\"))\n",
        "      break\n",
        "    except:\n",
        "      print(\"Error!\")\n",
        "\n",
        "  if x > y:\n",
        "    print(f\"{x}>{y}\")\n",
        "  elif x < y:\n",
        "    print(f\"{x}<{y}\")\n",
        "  else:\n",
        "    print(f\"{x}={y}\")\n",
        "max2()\n",
        "\n"
      ],
      "metadata": {
        "id": "Y2kcCrvX-MZM"
      },
      "id": "Y2kcCrvX-MZM",
      "execution_count": null,
      "outputs": []
    },
    {
      "cell_type": "code",
      "source": [
        "def max2(x, y):\n",
        "  if x > y:\n",
        "    print(f\"{x}>{y}\")\n",
        "  elif x < y:\n",
        "    print(f\"{x}<{y}\")\n",
        "  else:\n",
        "    print(f\"{x}={y}\")\n",
        "\n",
        "def int_():\n",
        "  while True:\n",
        "    try:\n",
        "      x = int(input(\"Enter your first number:\\n\"))\n",
        "      y = int(input(\"Enter your second number:\\n\"))\n",
        "      return x, y\n",
        "      break\n",
        "    except:\n",
        "      print(\"Error!\")\n",
        "\n",
        "x, y = int_()\n",
        "max2(x, y)\n",
        "\n"
      ],
      "metadata": {
        "colab": {
          "base_uri": "https://localhost:8080/"
        },
        "id": "85QvTUAWCqNa",
        "outputId": "09456133-adcd-4238-a024-f3a1307a71d1"
      },
      "id": "85QvTUAWCqNa",
      "execution_count": null,
      "outputs": [
        {
          "output_type": "stream",
          "name": "stdout",
          "text": [
            "Enter your first number:\n",
            "1\n",
            "Enter your second number:\n",
            "3\n",
            "1<3\n"
          ]
        }
      ]
    },
    {
      "cell_type": "code",
      "source": [
        "def max2():\n",
        "  while True:\n",
        "    try:\n",
        "      x = int(input(\"Enter your first number:\\n\"))\n",
        "      y = int(input(\"Enter your second number:\\n\"))\n",
        "      if x > y:\n",
        "        print(f\"{x}>{y}\")\n",
        "      elif x < y:\n",
        "        print(f\"{x}<{y}\")\n",
        "      else:\n",
        "        print(f\"{x}={y}\")\n",
        "      break\n",
        "    except:\n",
        "      print(\"Error!\")\n",
        "\n",
        "\n",
        "max2()\n"
      ],
      "metadata": {
        "id": "HrtJo6w3_Ff5"
      },
      "id": "HrtJo6w3_Ff5",
      "execution_count": null,
      "outputs": []
    },
    {
      "cell_type": "code",
      "source": [
        "x = [int(x) for x in input(\"Enter your numbers between spaces: \\n\").strip().split()]\n",
        "\n",
        "if x[0]>x[1]:\n",
        "  print(f\"{x[0]}>{x[1]}\")\n",
        "elif x[0]<x[1]:\n",
        "  print(f\"{x[0]}<{x[1]}\")\n",
        "else:\n",
        "  print(f\"{x[0]}= {x[1]}\")\n"
      ],
      "metadata": {
        "id": "yPTWfKEa_i86"
      },
      "id": "yPTWfKEa_i86",
      "execution_count": null,
      "outputs": []
    },
    {
      "cell_type": "code",
      "source": [
        "def max_list():\n",
        "  x = [int(x) for x in input(\"Enter your numbers between spaces: \\n\").strip().split()]\n",
        "  max_num = x[0]\n",
        "  for num in x:\n",
        "    if num > max_num:\n",
        "      max_num = num\n",
        "  print(max_num)\n",
        "max2()\n"
      ],
      "metadata": {
        "id": "leFArhFcA0gA"
      },
      "execution_count": null,
      "outputs": [],
      "id": "leFArhFcA0gA"
    },
    {
      "cell_type": "code",
      "metadata": {
        "colab": {
          "base_uri": "https://localhost:8080/"
        },
        "id": "277b1748",
        "outputId": "088ae7ba-c1f7-49b2-88bb-dc5361e7ad86"
      },
      "source": [
        "def max_in_list(list_numbers):\n",
        "    max_num = list_numbers[0]\n",
        "    for num in list_numbers:\n",
        "        if num > max_num:\n",
        "            max_num = num\n",
        "    return max_num\n",
        "\n",
        "max_in_list([10, 25, 3])"
      ],
      "id": "277b1748",
      "execution_count": null,
      "outputs": [
        {
          "output_type": "execute_result",
          "data": {
            "text/plain": [
              "25"
            ]
          },
          "metadata": {},
          "execution_count": 9
        }
      ]
    },
    {
      "cell_type": "code",
      "source": [
        "def max3():\n",
        "  while True:\n",
        "    try:\n",
        "      num = [int(x) for x in input(\"Enter your numbers between spaces: \\n\").strip().split()]\n",
        "      max_n = num[0]\n",
        "      for n in num:\n",
        "        if n > num[0]:\n",
        "            max_n = n\n",
        "      return max_n\n",
        "    except ValueError:\n",
        "      print(\"Error! only numbers!\")\n",
        "max3()"
      ],
      "metadata": {
        "colab": {
          "base_uri": "https://localhost:8080/"
        },
        "id": "YBEqdFg_Jyi1",
        "outputId": "2c1d38a6-2424-4584-b9a9-301f3382613f"
      },
      "id": "YBEqdFg_Jyi1",
      "execution_count": null,
      "outputs": [
        {
          "output_type": "error",
          "ename": "KeyboardInterrupt",
          "evalue": "Interrupted by user",
          "traceback": [
            "\u001b[0;31m---------------------------------------------------------------------------\u001b[0m",
            "\u001b[0;31mKeyboardInterrupt\u001b[0m                         Traceback (most recent call last)",
            "\u001b[0;32m/tmp/ipython-input-3093174881.py\u001b[0m in \u001b[0;36m<cell line: 0>\u001b[0;34m()\u001b[0m\n\u001b[1;32m     10\u001b[0m     \u001b[0;32mexcept\u001b[0m \u001b[0mValueError\u001b[0m\u001b[0;34m:\u001b[0m\u001b[0;34m\u001b[0m\u001b[0;34m\u001b[0m\u001b[0m\n\u001b[1;32m     11\u001b[0m       \u001b[0mprint\u001b[0m\u001b[0;34m(\u001b[0m\u001b[0;34m\"Error! only numbers!\"\u001b[0m\u001b[0;34m)\u001b[0m\u001b[0;34m\u001b[0m\u001b[0;34m\u001b[0m\u001b[0m\n\u001b[0;32m---> 12\u001b[0;31m \u001b[0mmax3\u001b[0m\u001b[0;34m(\u001b[0m\u001b[0;34m)\u001b[0m\u001b[0;34m\u001b[0m\u001b[0;34m\u001b[0m\u001b[0m\n\u001b[0m",
            "\u001b[0;32m/tmp/ipython-input-3093174881.py\u001b[0m in \u001b[0;36mmax3\u001b[0;34m()\u001b[0m\n\u001b[1;32m      2\u001b[0m   \u001b[0;32mwhile\u001b[0m \u001b[0;32mTrue\u001b[0m\u001b[0;34m:\u001b[0m\u001b[0;34m\u001b[0m\u001b[0;34m\u001b[0m\u001b[0m\n\u001b[1;32m      3\u001b[0m     \u001b[0;32mtry\u001b[0m\u001b[0;34m:\u001b[0m\u001b[0;34m\u001b[0m\u001b[0;34m\u001b[0m\u001b[0m\n\u001b[0;32m----> 4\u001b[0;31m       \u001b[0mnum\u001b[0m \u001b[0;34m=\u001b[0m \u001b[0;34m[\u001b[0m\u001b[0mint\u001b[0m\u001b[0;34m(\u001b[0m\u001b[0mx\u001b[0m\u001b[0;34m)\u001b[0m \u001b[0;32mfor\u001b[0m \u001b[0mx\u001b[0m \u001b[0;32min\u001b[0m \u001b[0minput\u001b[0m\u001b[0;34m(\u001b[0m\u001b[0;34m\"Enter your numbers between spaces: \\n\"\u001b[0m\u001b[0;34m)\u001b[0m\u001b[0;34m.\u001b[0m\u001b[0mstrip\u001b[0m\u001b[0;34m(\u001b[0m\u001b[0;34m)\u001b[0m\u001b[0;34m.\u001b[0m\u001b[0msplit\u001b[0m\u001b[0;34m(\u001b[0m\u001b[0;34m)\u001b[0m\u001b[0;34m]\u001b[0m\u001b[0;34m\u001b[0m\u001b[0;34m\u001b[0m\u001b[0m\n\u001b[0m\u001b[1;32m      5\u001b[0m       \u001b[0mmax_n\u001b[0m \u001b[0;34m=\u001b[0m \u001b[0mnum\u001b[0m\u001b[0;34m[\u001b[0m\u001b[0;36m0\u001b[0m\u001b[0;34m]\u001b[0m\u001b[0;34m\u001b[0m\u001b[0;34m\u001b[0m\u001b[0m\n\u001b[1;32m      6\u001b[0m       \u001b[0;32mfor\u001b[0m \u001b[0mn\u001b[0m \u001b[0;32min\u001b[0m \u001b[0mnum\u001b[0m\u001b[0;34m:\u001b[0m\u001b[0;34m\u001b[0m\u001b[0;34m\u001b[0m\u001b[0m\n",
            "\u001b[0;32m/usr/local/lib/python3.12/dist-packages/ipykernel/kernelbase.py\u001b[0m in \u001b[0;36mraw_input\u001b[0;34m(self, prompt)\u001b[0m\n\u001b[1;32m   1175\u001b[0m                 \u001b[0;34m\"raw_input was called, but this frontend does not support input requests.\"\u001b[0m\u001b[0;34m\u001b[0m\u001b[0;34m\u001b[0m\u001b[0m\n\u001b[1;32m   1176\u001b[0m             )\n\u001b[0;32m-> 1177\u001b[0;31m         return self._input_request(\n\u001b[0m\u001b[1;32m   1178\u001b[0m             \u001b[0mstr\u001b[0m\u001b[0;34m(\u001b[0m\u001b[0mprompt\u001b[0m\u001b[0;34m)\u001b[0m\u001b[0;34m,\u001b[0m\u001b[0;34m\u001b[0m\u001b[0;34m\u001b[0m\u001b[0m\n\u001b[1;32m   1179\u001b[0m             \u001b[0mself\u001b[0m\u001b[0;34m.\u001b[0m\u001b[0m_parent_ident\u001b[0m\u001b[0;34m[\u001b[0m\u001b[0;34m\"shell\"\u001b[0m\u001b[0;34m]\u001b[0m\u001b[0;34m,\u001b[0m\u001b[0;34m\u001b[0m\u001b[0;34m\u001b[0m\u001b[0m\n",
            "\u001b[0;32m/usr/local/lib/python3.12/dist-packages/ipykernel/kernelbase.py\u001b[0m in \u001b[0;36m_input_request\u001b[0;34m(self, prompt, ident, parent, password)\u001b[0m\n\u001b[1;32m   1217\u001b[0m             \u001b[0;32mexcept\u001b[0m \u001b[0mKeyboardInterrupt\u001b[0m\u001b[0;34m:\u001b[0m\u001b[0;34m\u001b[0m\u001b[0;34m\u001b[0m\u001b[0m\n\u001b[1;32m   1218\u001b[0m                 \u001b[0;31m# re-raise KeyboardInterrupt, to truncate traceback\u001b[0m\u001b[0;34m\u001b[0m\u001b[0;34m\u001b[0m\u001b[0m\n\u001b[0;32m-> 1219\u001b[0;31m                 \u001b[0;32mraise\u001b[0m \u001b[0mKeyboardInterrupt\u001b[0m\u001b[0;34m(\u001b[0m\u001b[0;34m\"Interrupted by user\"\u001b[0m\u001b[0;34m)\u001b[0m \u001b[0;32mfrom\u001b[0m \u001b[0;32mNone\u001b[0m\u001b[0;34m\u001b[0m\u001b[0;34m\u001b[0m\u001b[0m\n\u001b[0m\u001b[1;32m   1220\u001b[0m             \u001b[0;32mexcept\u001b[0m \u001b[0mException\u001b[0m\u001b[0;34m:\u001b[0m\u001b[0;34m\u001b[0m\u001b[0;34m\u001b[0m\u001b[0m\n\u001b[1;32m   1221\u001b[0m                 \u001b[0mself\u001b[0m\u001b[0;34m.\u001b[0m\u001b[0mlog\u001b[0m\u001b[0;34m.\u001b[0m\u001b[0mwarning\u001b[0m\u001b[0;34m(\u001b[0m\u001b[0;34m\"Invalid Message:\"\u001b[0m\u001b[0;34m,\u001b[0m \u001b[0mexc_info\u001b[0m\u001b[0;34m=\u001b[0m\u001b[0;32mTrue\u001b[0m\u001b[0;34m)\u001b[0m\u001b[0;34m\u001b[0m\u001b[0;34m\u001b[0m\u001b[0m\n",
            "\u001b[0;31mKeyboardInterrupt\u001b[0m: Interrupted by user"
          ]
        }
      ]
    },
    {
      "cell_type": "markdown",
      "id": "04f996f2-a3de-4ebc-a460-2eef6c219582",
      "metadata": {
        "id": "04f996f2-a3de-4ebc-a460-2eef6c219582"
      },
      "source": [
        "---\n",
        "### **02: Minimum of three numbers**\n",
        "* Make the function that takes three numbers as input\n",
        "* Returns the minimum of them\n",
        "\n",
        "example:\n",
        "```Python\n",
        "def min_of_three(num_01, num_02, num_03):\n",
        "    # Your code here\n",
        "    pass\n",
        "\n",
        "min_of_three(num_01=5, num_02=7, num_03=4)       ➞ 7\n",
        "```"
      ]
    },
    {
      "cell_type": "code",
      "execution_count": null,
      "id": "881ee960-95da-43e5-bfd6-202b288bbb9b",
      "metadata": {
        "id": "881ee960-95da-43e5-bfd6-202b288bbb9b"
      },
      "outputs": [],
      "source": [
        "def min3():\n",
        "  while True:\n",
        "    try:\n",
        "      x = int(input(\"Enter your first number: \\n\"))\n",
        "      y = int(input(\"Enter your second number: \\n\"))\n",
        "      z = int(input(\"Enter your third number: \\n\"))\n",
        "      break\n",
        "    except ValueError:\n",
        "      print(\"Error!\")\n",
        "\n",
        "  if x >= y >= z:\n",
        "    print(f\"{x} >= {y} >= {z}\")\n",
        "  elif x >= z >= y:\n",
        "    print(f\"{x}>= {z} >= {y}\")\n",
        "  elif y >= x >= z:\n",
        "    print(f\"{y} >= {x} >= {z}\")\n",
        "  elif y >= z >= x:\n",
        "    print(f\"{y} >= {z} >= {x}\")\n",
        "  elif z >= y >= x:\n",
        "    print(f\"{z} >= {y} >= {x}\")\n",
        "  elif z >= x >= y:\n",
        "    print(f\"{z} >= {x} >={y} \")\n",
        "  else:\n",
        "    print(f\"{x} = {y} = {z}\")\n",
        "\n",
        "min3()"
      ]
    },
    {
      "cell_type": "code",
      "execution_count": null,
      "metadata": {
        "id": "nbMfDzh1HGvG"
      },
      "outputs": [],
      "source": [
        "def min3():\n",
        "  while True:\n",
        "    try:\n",
        "      x = int(input(\"Enter your first number: \\n\"))\n",
        "      y = int(input(\"Enter your second number: \\n\"))\n",
        "      z = int(input(\"Enter your third number: \\n\"))\n",
        "      if x >= y >= z:\n",
        "        print(f\"{x} >= {y} >= {z}\")\n",
        "      elif x >= z >= y:\n",
        "        print(f\"{x}>= {z} >= {y}\")\n",
        "      elif y >= x >= z:\n",
        "        print(f\"{y} >= {x} >= {z}\")\n",
        "      elif y >= z >= x:\n",
        "        print(f\"{y} >= {z} >= {x}\")\n",
        "      elif z >= y >= x:\n",
        "        print(f\"{z} >= {y} >= {x}\")\n",
        "      elif z >= x >= y:\n",
        "        print(f\"{z} >= {x} >={y} \")\n",
        "      else:\n",
        "        print(f\"{x} = {y} = {z}\")\n",
        "      break\n",
        "    except ValueError:\n",
        "      print(\"Error!\")\n",
        "\n",
        "\n",
        "\n",
        "min3()"
      ],
      "id": "nbMfDzh1HGvG"
    },
    {
      "cell_type": "code",
      "source": [
        "def min_of_three(num_01, num_02, num_03):\n",
        "    if num_01 <= num_02 and num_01 <= num_03:\n",
        "        return num_01\n",
        "    elif num_02 <= num_03:\n",
        "        return num_02\n",
        "    else:\n",
        "        return num_03\n",
        "\n",
        "min_of_three(num_01=5, num_02=7, num_03=4)"
      ],
      "metadata": {
        "id": "s8WaJcyqHmLl"
      },
      "id": "s8WaJcyqHmLl",
      "execution_count": null,
      "outputs": []
    },
    {
      "cell_type": "code",
      "source": [
        "def min3():\n",
        "  while True:\n",
        "    try:\n",
        "      num = [int(x) for x in input(\"Enter your numbers between spaces: \\n\").strip().split()]\n",
        "      min_n = num[0]\n",
        "      for n in num:\n",
        "        if n < num[0]:\n",
        "            min_n = n\n",
        "      return min_n\n",
        "    except ValueError:\n",
        "      print(\"Error! only numbers!\")\n",
        "min3()"
      ],
      "metadata": {
        "id": "gwXKAsfOH2Dh"
      },
      "id": "gwXKAsfOH2Dh",
      "execution_count": null,
      "outputs": []
    },
    {
      "cell_type": "markdown",
      "id": "28562750-48eb-40f5-bf4b-685ed2829870",
      "metadata": {
        "id": "28562750-48eb-40f5-bf4b-685ed2829870"
      },
      "source": [
        "---\n",
        "### **03: Maximum in the list of numbers**\n",
        "* Make the function that takes a list of numbers\n",
        "* Returns the maximum element of the list\n",
        "\n",
        "example:\n",
        "```Python\n",
        "def max_in_list(list_numbers):\n",
        "    # Your code here\n",
        "    pass\n",
        "\n",
        "max_in_list([10, 25, 3])                ➞ 25\n",
        "```"
      ]
    },
    {
      "cell_type": "markdown",
      "id": "fd2f208c-f2be-4f23-a20d-cb3073808862",
      "metadata": {
        "id": "fd2f208c-f2be-4f23-a20d-cb3073808862"
      },
      "source": [
        "<details>\n",
        "<summary>💡 Hint (click to expand)</summary>\n",
        "\n",
        "To find the maximum manually, you can start by assuming the first element is the largest. Then, loop through the list and compare each number to max_num, updating it if you find a larger one.\n",
        "\n",
        "```python\n",
        "max_num = numbers[0]\n",
        "```"
      ]
    },
    {
      "cell_type": "code",
      "execution_count": null,
      "id": "42788970-6f18-4071-8796-8f2b86bceabe",
      "metadata": {
        "id": "42788970-6f18-4071-8796-8f2b86bceabe"
      },
      "outputs": [],
      "source": [
        "def max_in_list(lis):\n",
        "    max_num = lis[0]\n",
        "    for num in lis:\n",
        "        if num > max_num:\n",
        "            max_num = num\n",
        "    return max_num\n",
        "\n",
        "max_in_list([10, 25, 3])"
      ]
    },
    {
      "cell_type": "code",
      "source": [
        "def max_list():\n",
        "  while True:\n",
        "    try:\n",
        "      num = [int(x) for x in input(\"Enter your numbers between in spaces: \\n\").strip().split()]\n",
        "      max_n = num[0]\n",
        "      for n in num:\n",
        "        if n > num[0]:\n",
        "            max_n = n\n",
        "      return max_n\n",
        "    except ValueError:\n",
        "      print(\"Error! only numbers!\")\n",
        "max_list()"
      ],
      "metadata": {
        "id": "8AnM7yGBKmIB"
      },
      "id": "8AnM7yGBKmIB",
      "execution_count": null,
      "outputs": []
    },
    {
      "cell_type": "markdown",
      "id": "1ddab8ad-3237-4c23-b11c-ef17fd78f463",
      "metadata": {
        "id": "1ddab8ad-3237-4c23-b11c-ef17fd78f463"
      },
      "source": [
        "---\n",
        "### **04: Find a value in the list**\n",
        "\n",
        "* Write a function that find a value in the list. It should takes two inputs:\n",
        "  1. A list of values\n",
        "  2. A target value to search for\n",
        "\n",
        "The function should return `True` if the target is in the list, `False` otherwise.\n",
        "\n",
        "🔒 You are not allowed to use the `in` keyword.\n",
        "\n",
        "---\n",
        "\n",
        "example:\n",
        "```Python\n",
        "def find_value(data, target):\n",
        "    # Your code here\n",
        "    pass\n",
        "\n",
        "find_value([1, 2, 3, 4], 3)      ➞ True  \n",
        "find_value(['a', 'b', 'c'], 'z') ➞ False  \n",
        "\n",
        "```"
      ]
    },
    {
      "cell_type": "markdown",
      "id": "b88504f2-4cf0-4a09-b3a1-d4333023a0b2",
      "metadata": {
        "id": "b88504f2-4cf0-4a09-b3a1-d4333023a0b2"
      },
      "source": [
        "<details>\n",
        "<summary>💡 Hint (click to expand)</summary>\n",
        "\n",
        "Use a `for` loop to check each element in the list:\n",
        "\n",
        "```python\n",
        "for item in data:\n",
        "    if ...\n"
      ]
    },
    {
      "cell_type": "code",
      "source": [
        "def find_value(data, target):\n",
        "    return target in data\n",
        "\n",
        "find_value([1, 2, 3, 4], 5)"
      ],
      "metadata": {
        "id": "GIhnsaoQQuB9"
      },
      "id": "GIhnsaoQQuB9",
      "execution_count": null,
      "outputs": []
    },
    {
      "cell_type": "code",
      "execution_count": null,
      "id": "6d710e0e-695f-4ec0-b51e-b792f43c2d11",
      "metadata": {
        "colab": {
          "base_uri": "https://localhost:8080/"
        },
        "id": "6d710e0e-695f-4ec0-b51e-b792f43c2d11",
        "outputId": "a3d705be-1a2d-4fbf-9dbb-defe1fc15366"
      },
      "outputs": [
        {
          "output_type": "execute_result",
          "data": {
            "text/plain": [
              "True"
            ]
          },
          "metadata": {},
          "execution_count": 39
        }
      ],
      "source": [
        "def find_value(data, target):\n",
        "\n",
        "  if target in data:\n",
        "    return True\n",
        "  else:\n",
        "    return False\n",
        "\n",
        "find_value([1, 3, 5], 3)\n"
      ]
    },
    {
      "cell_type": "code",
      "execution_count": 49,
      "metadata": {
        "colab": {
          "base_uri": "https://localhost:8080/"
        },
        "outputId": "40225e2e-7288-4289-b1f8-4b351a1ddefe",
        "id": "5y_-3B0zR2K8"
      },
      "outputs": [
        {
          "output_type": "execute_result",
          "data": {
            "text/plain": [
              "True"
            ]
          },
          "metadata": {},
          "execution_count": 49
        }
      ],
      "source": [
        "def find_value(data, target):\n",
        "\n",
        "  if target in data:\n",
        "    return True\n",
        "  return False\n",
        "\n",
        "find_value([1, 3, 5], 3)\n"
      ],
      "id": "5y_-3B0zR2K8"
    },
    {
      "cell_type": "code",
      "source": [
        "def find_value():\n",
        "  while True:\n",
        "    try:\n",
        "      data = [int(x) for x in input(\"Enter your numbers between in spaces: \\n\").strip().split()]\n",
        "      target = int(input(\"Enter your target number: \\n\"))\n",
        "      if target in data:\n",
        "        return True, f\"{target} is in {data}\"\n",
        "      else:\n",
        "        return False, f\"{target} is not in {data}\"\n",
        "    except ValueError:\n",
        "      print(\"Error in Value!\")\n",
        "\n",
        "\n",
        "find_value()"
      ],
      "metadata": {
        "colab": {
          "base_uri": "https://localhost:8080/"
        },
        "id": "7p_bDeenHyLj",
        "outputId": "a53fc0e3-e8b6-4be0-e1e0-aeb7314793ca"
      },
      "id": "7p_bDeenHyLj",
      "execution_count": 4,
      "outputs": [
        {
          "name": "stdout",
          "output_type": "stream",
          "text": [
            "Enter your numbers between in spaces: \n",
            "1 2 3 4 5 6\n",
            "Enter your target number: \n",
            "2\n"
          ]
        },
        {
          "output_type": "execute_result",
          "data": {
            "text/plain": [
              "(True, '2 is in [1, 2, 3, 4, 5, 6]')"
            ]
          },
          "metadata": {},
          "execution_count": 4
        }
      ]
    },
    {
      "cell_type": "code",
      "source": [
        "def find_value():\n",
        "  while True:\n",
        "    try:\n",
        "      data = [int(x) for x in input(\"Enter your numbers between in spaces: \\n\").strip().split()]\n",
        "      target = [int(y) for y in input(\"Enter your target number: \\n\").strip().split()]\n",
        "      for item in target:\n",
        "        if item in data:\n",
        "          print(True, f\"{item} is in {data}\")\n",
        "\n",
        "        else:\n",
        "          print(False, f\"{item} is not in {data}\")\n",
        "      break\n",
        "    except ValueError:\n",
        "      print(\"Error in Value!\")\n",
        "\n",
        "\n",
        "find_value()"
      ],
      "metadata": {
        "colab": {
          "base_uri": "https://localhost:8080/"
        },
        "outputId": "4b0a0a1a-e052-46a3-da33-89664eecda0d",
        "id": "8XKujWOVQ6BG"
      },
      "execution_count": 48,
      "outputs": [
        {
          "output_type": "stream",
          "name": "stdout",
          "text": [
            "Enter your numbers between in spaces: \n",
            "1 2 3 4\n",
            "Enter your target number: \n",
            "1 5\n",
            "True 1 is in [1, 2, 3, 4]\n",
            "False 5 is not in [1, 2, 3, 4]\n"
          ]
        }
      ],
      "id": "8XKujWOVQ6BG"
    },
    {
      "cell_type": "code",
      "source": [
        "def find_value():\n",
        "  while True:\n",
        "    try:\n",
        "      data = [int(x) for x in input(\"Enter your numbers between in spaces: \\n\").strip().split()]\n",
        "      target = int(input(\"Enter your target number: \\n\"))\n",
        "      if target in data:\n",
        "        print(f\"{target} is in {data}\")\n",
        "        return True\n",
        "      else:\n",
        "        print(f\"{target} is not in {data}\")\n",
        "        return False\n",
        "    except ValueError:\n",
        "      print(\"Error in Value!\")\n",
        "\n",
        "\n",
        "find_value()"
      ],
      "metadata": {
        "id": "pOPOeEpZI9Is"
      },
      "execution_count": null,
      "outputs": [],
      "id": "pOPOeEpZI9Is"
    },
    {
      "cell_type": "markdown",
      "id": "ac20f090-35e0-41aa-9896-4013d678e122",
      "metadata": {
        "id": "ac20f090-35e0-41aa-9896-4013d678e122"
      },
      "source": [
        "---\n",
        "### **05: Count odd and even numbers**\n",
        "\n",
        "* Write a function takes a list of integers and returns two values:  \n",
        "  1. The number of even numbers  \n",
        "  2. The number of odd numbers\n",
        "\n",
        "example:\n",
        "```Python\n",
        "def count_odd_even(list_numbers):\n",
        "    # Your code here\n",
        "    pass\n",
        "\n",
        "count_odd_even([1, 2, 3, 4, 5])       ➞ (2, 3)\n",
        "count_odd_even([2, 4, 6, 8])          ➞ (4, 0)\n",
        "count_odd_even([1, 3, 5])             ➞ (0, 3)\n",
        "```"
      ]
    },
    {
      "cell_type": "markdown",
      "id": "386d586b-582b-4864-8b2a-6ebcae9f6a1f",
      "metadata": {
        "id": "386d586b-582b-4864-8b2a-6ebcae9f6a1f"
      },
      "source": [
        "<details>\n",
        "<summary>💡 Hint (click to expand)</summary>\n",
        "\n",
        "Use two counters at first, then add them 1 when the needed:\n",
        "\n",
        "```python\n",
        "even_count = 0\n",
        "odd_count = 0\n"
      ]
    },
    {
      "cell_type": "code",
      "execution_count": null,
      "id": "45f53d84-3ca1-43f3-aadd-c78f4d1dec01",
      "metadata": {
        "id": "45f53d84-3ca1-43f3-aadd-c78f4d1dec01",
        "colab": {
          "base_uri": "https://localhost:8080/"
        },
        "outputId": "1a533e02-2e87-4f55-c100-fa74875a5c4d"
      },
      "outputs": [
        {
          "metadata": {
            "tags": null
          },
          "name": "stdout",
          "output_type": "stream",
          "text": [
            "just number!\n"
          ]
        },
        {
          "ename": "KeyboardInterrupt",
          "evalue": "Interrupted by user",
          "output_type": "error",
          "traceback": [
            "\u001b[0;31m---------------------------------------------------------------------------\u001b[0m",
            "\u001b[0;31mKeyboardInterrupt\u001b[0m                         Traceback (most recent call last)",
            "\u001b[0;32m/tmp/ipython-input-3877701616.py\u001b[0m in \u001b[0;36m<cell line: 0>\u001b[0;34m()\u001b[0m\n\u001b[1;32m     11\u001b[0m       \u001b[0mprint\u001b[0m\u001b[0;34m(\u001b[0m\u001b[0;34m\"just number!\"\u001b[0m\u001b[0;34m)\u001b[0m\u001b[0;34m\u001b[0m\u001b[0;34m\u001b[0m\u001b[0m\n\u001b[1;32m     12\u001b[0m \u001b[0;34m\u001b[0m\u001b[0m\n\u001b[0;32m---> 13\u001b[0;31m \u001b[0modd_even\u001b[0m\u001b[0;34m(\u001b[0m\u001b[0;34m)\u001b[0m\u001b[0;34m\u001b[0m\u001b[0;34m\u001b[0m\u001b[0m\n\u001b[0m",
            "\u001b[0;32m/tmp/ipython-input-3877701616.py\u001b[0m in \u001b[0;36modd_even\u001b[0;34m()\u001b[0m\n\u001b[1;32m      2\u001b[0m   \u001b[0;32mwhile\u001b[0m \u001b[0;32mTrue\u001b[0m\u001b[0;34m:\u001b[0m\u001b[0;34m\u001b[0m\u001b[0;34m\u001b[0m\u001b[0m\n\u001b[1;32m      3\u001b[0m     \u001b[0;32mtry\u001b[0m\u001b[0;34m:\u001b[0m\u001b[0;34m\u001b[0m\u001b[0;34m\u001b[0m\u001b[0m\n\u001b[0;32m----> 4\u001b[0;31m       \u001b[0mnum\u001b[0m \u001b[0;34m=\u001b[0m \u001b[0minput\u001b[0m\u001b[0;34m(\u001b[0m\u001b[0;34m\"Enter your numbers between in spaces: \\n\"\u001b[0m\u001b[0;34m)\u001b[0m\u001b[0;34m.\u001b[0m\u001b[0mstrip\u001b[0m\u001b[0;34m(\u001b[0m\u001b[0;34m)\u001b[0m\u001b[0;34m.\u001b[0m\u001b[0msplit\u001b[0m\u001b[0;34m(\u001b[0m\u001b[0;34m)\u001b[0m\u001b[0;34m\u001b[0m\u001b[0;34m\u001b[0m\u001b[0m\n\u001b[0m\u001b[1;32m      5\u001b[0m       \u001b[0mx\u001b[0m \u001b[0;34m=\u001b[0m \u001b[0;34m[\u001b[0m\u001b[0mint\u001b[0m\u001b[0;34m(\u001b[0m\u001b[0mx\u001b[0m\u001b[0;34m)\u001b[0m \u001b[0;32mfor\u001b[0m \u001b[0mx\u001b[0m \u001b[0;32min\u001b[0m \u001b[0mnum\u001b[0m \u001b[0;32mif\u001b[0m \u001b[0mint\u001b[0m\u001b[0;34m(\u001b[0m\u001b[0mx\u001b[0m\u001b[0;34m)\u001b[0m \u001b[0;34m%\u001b[0m \u001b[0;36m2\u001b[0m \u001b[0;34m==\u001b[0m \u001b[0;36m0\u001b[0m\u001b[0;34m]\u001b[0m\u001b[0;34m\u001b[0m\u001b[0;34m\u001b[0m\u001b[0m\n\u001b[1;32m      6\u001b[0m       \u001b[0mprint\u001b[0m\u001b[0;34m(\u001b[0m\u001b[0;34mf\"{x} is divisible with 2 and the number of odd in {num} is {len(x)}\"\u001b[0m\u001b[0;34m)\u001b[0m\u001b[0;34m\u001b[0m\u001b[0;34m\u001b[0m\u001b[0m\n",
            "\u001b[0;32m/usr/local/lib/python3.12/dist-packages/ipykernel/kernelbase.py\u001b[0m in \u001b[0;36mraw_input\u001b[0;34m(self, prompt)\u001b[0m\n\u001b[1;32m   1175\u001b[0m                 \u001b[0;34m\"raw_input was called, but this frontend does not support input requests.\"\u001b[0m\u001b[0;34m\u001b[0m\u001b[0;34m\u001b[0m\u001b[0m\n\u001b[1;32m   1176\u001b[0m             )\n\u001b[0;32m-> 1177\u001b[0;31m         return self._input_request(\n\u001b[0m\u001b[1;32m   1178\u001b[0m             \u001b[0mstr\u001b[0m\u001b[0;34m(\u001b[0m\u001b[0mprompt\u001b[0m\u001b[0;34m)\u001b[0m\u001b[0;34m,\u001b[0m\u001b[0;34m\u001b[0m\u001b[0;34m\u001b[0m\u001b[0m\n\u001b[1;32m   1179\u001b[0m             \u001b[0mself\u001b[0m\u001b[0;34m.\u001b[0m\u001b[0m_parent_ident\u001b[0m\u001b[0;34m[\u001b[0m\u001b[0;34m\"shell\"\u001b[0m\u001b[0;34m]\u001b[0m\u001b[0;34m,\u001b[0m\u001b[0;34m\u001b[0m\u001b[0;34m\u001b[0m\u001b[0m\n",
            "\u001b[0;32m/usr/local/lib/python3.12/dist-packages/ipykernel/kernelbase.py\u001b[0m in \u001b[0;36m_input_request\u001b[0;34m(self, prompt, ident, parent, password)\u001b[0m\n\u001b[1;32m   1217\u001b[0m             \u001b[0;32mexcept\u001b[0m \u001b[0mKeyboardInterrupt\u001b[0m\u001b[0;34m:\u001b[0m\u001b[0;34m\u001b[0m\u001b[0;34m\u001b[0m\u001b[0m\n\u001b[1;32m   1218\u001b[0m                 \u001b[0;31m# re-raise KeyboardInterrupt, to truncate traceback\u001b[0m\u001b[0;34m\u001b[0m\u001b[0;34m\u001b[0m\u001b[0m\n\u001b[0;32m-> 1219\u001b[0;31m                 \u001b[0;32mraise\u001b[0m \u001b[0mKeyboardInterrupt\u001b[0m\u001b[0;34m(\u001b[0m\u001b[0;34m\"Interrupted by user\"\u001b[0m\u001b[0;34m)\u001b[0m \u001b[0;32mfrom\u001b[0m \u001b[0;32mNone\u001b[0m\u001b[0;34m\u001b[0m\u001b[0;34m\u001b[0m\u001b[0m\n\u001b[0m\u001b[1;32m   1220\u001b[0m             \u001b[0;32mexcept\u001b[0m \u001b[0mException\u001b[0m\u001b[0;34m:\u001b[0m\u001b[0;34m\u001b[0m\u001b[0;34m\u001b[0m\u001b[0m\n\u001b[1;32m   1221\u001b[0m                 \u001b[0mself\u001b[0m\u001b[0;34m.\u001b[0m\u001b[0mlog\u001b[0m\u001b[0;34m.\u001b[0m\u001b[0mwarning\u001b[0m\u001b[0;34m(\u001b[0m\u001b[0;34m\"Invalid Message:\"\u001b[0m\u001b[0;34m,\u001b[0m \u001b[0mexc_info\u001b[0m\u001b[0;34m=\u001b[0m\u001b[0;32mTrue\u001b[0m\u001b[0;34m)\u001b[0m\u001b[0;34m\u001b[0m\u001b[0;34m\u001b[0m\u001b[0m\n",
            "\u001b[0;31mKeyboardInterrupt\u001b[0m: Interrupted by user"
          ]
        }
      ],
      "source": [
        "def odd_even():\n",
        "  while True:\n",
        "    try:\n",
        "      num = input(\"Enter your numbers between in spaces: \\n\").strip().split()\n",
        "      x = [int(x) for x in num if int(x) % 2 == 0]\n",
        "      print(f\"{x} is divisible with 2 and the number of odd in {num} is {len(x)}\")\n",
        "      y = [int(y) for y in num if int(y) % 2 != 0]\n",
        "      print(f\"{y} is not divisible with 2 and the number of even in {num} is {len(y)}\")\n",
        "      break\n",
        "    except ValueError:\n",
        "      print(\"just number!\")\n",
        "\n",
        "odd_even()\n"
      ]
    },
    {
      "cell_type": "code",
      "execution_count": null,
      "metadata": {
        "id": "FGiLFBfYK61d"
      },
      "outputs": [],
      "source": [
        "def odd_even():\n",
        "  while True:\n",
        "    try:\n",
        "      num = input(\"Enter your numbers between in spaces: \\n\").strip().split()\n",
        "      x = [int(x) for x in num if int(x) % 2 == 0]\n",
        "      y = [int(y) for y in num if int(y) % 2 != 0]\n",
        "      return f\"{x} is divisible with 2 and the number of odd in {num} is {len(x)}\", f\"{y} is not divisible with 2 and the number of odd in {num} is {len(y)}\"\n",
        "      break\n",
        "    except ValueError:\n",
        "      print(\"just number!\")\n",
        "\n",
        "odd_even()\n"
      ],
      "id": "FGiLFBfYK61d"
    },
    {
      "cell_type": "code",
      "source": [
        "def count_odd_even(list_numbers):\n",
        "  even_count = 0\n",
        "  odd_count = 0\n",
        "  for num in list_numbers:\n",
        "    if num % 2 == 0:\n",
        "      even_count += 1\n",
        "    else:\n",
        "      odd_count += 1\n",
        "  return f\"even count is {even_count},odd count is {odd_count}\"\n",
        "\n",
        "count_odd_even([1, 2, 3, 4, 5])\n"
      ],
      "metadata": {
        "id": "ePaJY0xrMAT0"
      },
      "id": "ePaJY0xrMAT0",
      "execution_count": null,
      "outputs": []
    },
    {
      "cell_type": "code",
      "metadata": {
        "colab": {
          "base_uri": "https://localhost:8080/"
        },
        "id": "8e652800",
        "outputId": "4e5099a9-df63-4c6c-e22d-0e3545ab4693"
      },
      "source": [
        "def count_odd_even(list_numbers):\n",
        "    even_count = 0\n",
        "    odd_count = 0\n",
        "    for num in list_numbers:\n",
        "        if num % 2 == 0:\n",
        "            even_count += 1\n",
        "        else:\n",
        "            odd_count += 1\n",
        "    return even_count, odd_count\n",
        "\n",
        "# Example usage:\n",
        "print(count_odd_even([1, 2, 3, 4, 5]))\n",
        "print(count_odd_even([2, 4, 6, 8]))\n",
        "print(count_odd_even([1, 3, 5]))"
      ],
      "id": "8e652800",
      "execution_count": 24,
      "outputs": [
        {
          "output_type": "stream",
          "name": "stdout",
          "text": [
            "(2, 3)\n",
            "(4, 0)\n",
            "(0, 3)\n"
          ]
        }
      ]
    },
    {
      "cell_type": "markdown",
      "id": "1da0f718-6fda-4c9d-a255-8b4acd35895b",
      "metadata": {
        "id": "1da0f718-6fda-4c9d-a255-8b4acd35895b"
      },
      "source": [
        "---\n",
        "### **06: Separate odd and even numbers from the list**\n",
        "\n",
        "* Write a function that takes a list of integers and returns two new lists:\n",
        "  1. One list containing all the even numbers\n",
        "  2. One list containing all the odd numbers\n",
        "\n",
        "example:\n",
        "```Python\n",
        "def even_odd_separate(list_numbers):\n",
        "    # Your code here\n",
        "    pass\n",
        "\n",
        "even_odd_separate([1, 2, 3, 4, 5])       ➞ ([2, 4], [1, 3, 5])\n",
        "\n",
        "```"
      ]
    },
    {
      "cell_type": "markdown",
      "id": "965c7e72-df61-4613-b5c1-c32ea1d05e85",
      "metadata": {
        "id": "965c7e72-df61-4613-b5c1-c32ea1d05e85"
      },
      "source": [
        "<details>\n",
        "<summary>💡 Hint (click to expand)</summary>\n",
        "\n",
        "You can use two empty lists:\n",
        "\n",
        "```python\n",
        "even = []\n",
        "odd = []\n",
        "```"
      ]
    },
    {
      "cell_type": "code",
      "execution_count": 31,
      "id": "c1fe26d2-6f1f-4eac-a376-4c60fd2af49d",
      "metadata": {
        "id": "c1fe26d2-6f1f-4eac-a376-4c60fd2af49d",
        "colab": {
          "base_uri": "https://localhost:8080/"
        },
        "outputId": "2de88607-7103-43fb-f499-a17f6740ad6a"
      },
      "outputs": [
        {
          "name": "stdout",
          "output_type": "stream",
          "text": [
            "Enter your numbers between in spaces: \n",
            "1 2 3 4 5  6 7 8 \n"
          ]
        },
        {
          "output_type": "execute_result",
          "data": {
            "text/plain": [
              "([2, 4, 6, 8], [1, 3, 5, 7])"
            ]
          },
          "metadata": {},
          "execution_count": 31
        }
      ],
      "source": [
        "def even_odd_():\n",
        "  while True:\n",
        "    try:\n",
        "      num = [int(x) for x in input(\"Enter your numbers between in spaces: \\n\").strip().split()]\n",
        "      even = [x for x in num if x % 2 == 0]\n",
        "      odd = [x for x in num if x % 2 != 0]\n",
        "      return even, odd\n",
        "    except ValueError:\n",
        "      print(\"Error\")\n",
        "\n",
        "even_odd_()"
      ]
    },
    {
      "cell_type": "code",
      "source": [
        "def even_odd(list_nubers):\n",
        "    even = []\n",
        "    odd = []\n",
        "    for num in list_nubers:\n",
        "        if num % 2 == 0:\n",
        "            even.append(num)\n",
        "        elif num % 2 == 1:\n",
        "            odd.append(num)\n",
        "    return even, odd\n",
        "even_odd([1, 2, 3, 4, 5])\n"
      ],
      "metadata": {
        "colab": {
          "base_uri": "https://localhost:8080/"
        },
        "id": "efLDxU-KOEhU",
        "outputId": "3289b619-bfaf-441f-ed1c-c1626424ce75"
      },
      "id": "efLDxU-KOEhU",
      "execution_count": 32,
      "outputs": [
        {
          "output_type": "execute_result",
          "data": {
            "text/plain": [
              "([2, 4], [1, 3, 5])"
            ]
          },
          "metadata": {},
          "execution_count": 32
        }
      ]
    },
    {
      "cell_type": "markdown",
      "id": "dcdcbf79-ba4d-4220-8020-0e39579a356a",
      "metadata": {
        "id": "dcdcbf79-ba4d-4220-8020-0e39579a356a"
      },
      "source": [
        "---\n",
        "### **07: Separate odd and even numbers from the NumPy array**\n",
        "\n",
        "* Write a function that takes a numpy array of integers and returns two new arrays:\n",
        "  1. One array containing all the even numbers\n",
        "  2. One array containing all the odd numbers\n",
        "\n",
        "example:\n",
        "```Python\n",
        "def even_odd_separate(numpy_array):\n",
        "    # Your code here\n",
        "    pass\n",
        "\n",
        "even_odd_separate(my_array)       ➞ ([2, 4], [1, 3, 5])\n",
        "\n",
        "```\n",
        "\n",
        "🔒 Avoid np.append() in loops."
      ]
    },
    {
      "cell_type": "markdown",
      "id": "22324e8f-e645-4760-abfc-02eb6d2c14df",
      "metadata": {
        "id": "22324e8f-e645-4760-abfc-02eb6d2c14df"
      },
      "source": [
        "<details>\n",
        "<summary>💡 Hint (click to expand)</summary>\n",
        "\n",
        "Avoid np.append() in loops.\n",
        "\n",
        "```python\n",
        "even_array = np.append(even_array, i) # ❌ Not suitable for loops\n",
        "odd_array = np.append(odd_array, i) # ❌ Not suitable for loops\n",
        "```\n"
      ]
    },
    {
      "cell_type": "code",
      "execution_count": 39,
      "id": "1613d99f-949c-409e-93cd-220e8b4501af",
      "metadata": {
        "id": "1613d99f-949c-409e-93cd-220e8b4501af",
        "colab": {
          "base_uri": "https://localhost:8080/"
        },
        "outputId": "26b75a81-4e30-4b79-a2fd-1b602b24223a"
      },
      "outputs": [
        {
          "output_type": "stream",
          "name": "stdout",
          "text": [
            "even is [2 4 6 8], odd is [1 3 5 7]\n"
          ]
        }
      ],
      "source": [
        "import numpy as np\n",
        "def even_odd(my_array):\n",
        "    even_array = my_array[my_array % 2 == 0]\n",
        "    odd_array = my_array[my_array % 2 != 0]\n",
        "    return even_array, odd_array\n",
        "a, b = even_odd(np.array((1, 2, 3, 4, 5, 6, 7, 8)))\n",
        "print(f\"even is {a}, odd is {b}\")"
      ]
    },
    {
      "cell_type": "code",
      "source": [
        "import numpy as np\n",
        "def even_odd(my_array):\n",
        "    even_array = []\n",
        "    odd_array = []\n",
        "    for i in my_array:\n",
        "      if i % 2 == 0:\n",
        "        even_array.append(i)\n",
        "      else:\n",
        "        odd_array.append(i)\n",
        "\n",
        "    return even_array, odd_array\n",
        "\n",
        "even_odd(np.array((1, 2, 3, 4, 5, 6, 7, 8)))\n",
        "a, b = even_odd(np.array((1, 2, 3, 4, 5, 6, 7, 8)))\n",
        "print(f\"even is {a}, odd is {b}\")"
      ],
      "metadata": {
        "colab": {
          "base_uri": "https://localhost:8080/"
        },
        "id": "H63YC9GrPe81",
        "outputId": "e5603c91-ea60-48e0-c828-4547fb3796fe"
      },
      "id": "H63YC9GrPe81",
      "execution_count": 40,
      "outputs": [
        {
          "output_type": "stream",
          "name": "stdout",
          "text": [
            "even is [np.int64(2), np.int64(4), np.int64(6), np.int64(8)], odd is [np.int64(1), np.int64(3), np.int64(5), np.int64(7)]\n"
          ]
        }
      ]
    }
  ],
  "metadata": {
    "kernelspec": {
      "display_name": "Python 3 (ipykernel)",
      "language": "python",
      "name": "python3"
    },
    "language_info": {
      "codemirror_mode": {
        "name": "ipython",
        "version": 3
      },
      "file_extension": ".py",
      "mimetype": "text/x-python",
      "name": "python",
      "nbconvert_exporter": "python",
      "pygments_lexer": "ipython3",
      "version": "3.13.0"
    },
    "colab": {
      "provenance": [],
      "include_colab_link": true
    }
  },
  "nbformat": 4,
  "nbformat_minor": 5
}