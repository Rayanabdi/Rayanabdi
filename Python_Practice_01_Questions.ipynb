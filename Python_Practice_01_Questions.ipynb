{
  "cells": [
    {
      "cell_type": "markdown",
      "metadata": {
        "id": "view-in-github",
        "colab_type": "text"
      },
      "source": [
        "<a href=\"https://colab.research.google.com/github/Rayanabdi/Rayanabdi/blob/main/Python_Practice_01_Questions.ipynb\" target=\"_parent\"><img src=\"https://colab.research.google.com/assets/colab-badge.svg\" alt=\"Open In Colab\"/></a>"
      ]
    },
    {
      "cell_type": "markdown",
      "id": "8e4fdacc-3376-42ab-9d33-9e6821a3182d",
      "metadata": {
        "id": "8e4fdacc-3376-42ab-9d33-9e6821a3182d"
      },
      "source": [
        "### 🧑🏻‍💻 Python Practice Set 1\n",
        "2025 -OCT"
      ]
    },
    {
      "cell_type": "code",
      "execution_count": null,
      "id": "614f6aaf-5f86-4762-9f58-655b5eeef140",
      "metadata": {
        "id": "614f6aaf-5f86-4762-9f58-655b5eeef140"
      },
      "outputs": [],
      "source": [
        "# 01\n",
        "# Create a list of 5 numbers.\n",
        "# a. Print the first and last elements.\n",
        "# b. Add a number to the end of the list.\n",
        "# c. Print the length of the list."
      ]
    },
    {
      "cell_type": "code",
      "execution_count": 2,
      "id": "41539920-adb5-4208-91a2-da6dc009cd43",
      "metadata": {
        "colab": {
          "base_uri": "https://localhost:8080/"
        },
        "id": "41539920-adb5-4208-91a2-da6dc009cd43",
        "outputId": "3147c6c9-9e3a-4825-b2ed-2c5212ae4998"
      },
      "outputs": [
        {
          "output_type": "stream",
          "name": "stdout",
          "text": [
            " The first Number is1 \n",
            " The last Number is 5\n",
            "Please Add your number to list10\n",
            "from now on, The lenght of the list 6\n"
          ]
        }
      ],
      "source": [
        "# answer 01:\n",
        "my_list = [1 , 2, 3, 4, 5]\n",
        "print(f\" The first Number is {my_list[0]}\", \"\\n\", f\"The last Number is {my_list[-1]}\")\n",
        "my_list.append(int(input(\"Please Add your number to list: \")))\n",
        "print(f\"from now on, The length of the list {len(my_list)}\")"
      ]
    },
    {
      "cell_type": "code",
      "source": [
        "# prelocation and for loop and if and while\n",
        "\n",
        "my_list = []\n",
        "\n",
        "for i in range(1, 6):\n",
        "  my_list.append(i)\n",
        "\n",
        "print(my_list)\n",
        "print(f\" The first Number is {my_list[0]}\", \"\\n\", f\"The last Number is {my_list[-1]}\")\n",
        "\n",
        "\n",
        "while True:\n",
        "  user_input = input(\"Please Add your number to the end of the list: \")\n",
        "  if user_input.isnumeric():\n",
        "    my_list.append(int(user_input))\n",
        "    print(f\"From now on, the length of the list is {len(my_list)}\")\n",
        "    break\n",
        "  else:\n",
        "    print(\"Invalid input. Please enter a number.\")\n",
        "    continue"
      ],
      "metadata": {
        "colab": {
          "base_uri": "https://localhost:8080/"
        },
        "id": "cPLF61Wz2Ke-",
        "outputId": "d8a9fd60-a559-484f-8fdd-f5d6e61c3ece"
      },
      "id": "cPLF61Wz2Ke-",
      "execution_count": 1,
      "outputs": [
        {
          "output_type": "stream",
          "name": "stdout",
          "text": [
            "[1, 2, 3, 4, 5]\n",
            " The first Number is 1 \n",
            " The last Number is 5\n",
            "Invalid input. Please enter a number.\n",
            "Please Add your number to the end of the list: 23\n",
            "From now on, the length of the list is 6\n"
          ]
        }
      ]
    },
    {
      "cell_type": "code",
      "execution_count": null,
      "id": "5c7c6cc3-a4c4-4236-bf7e-7b74dc1f6e53",
      "metadata": {
        "id": "5c7c6cc3-a4c4-4236-bf7e-7b74dc1f6e53"
      },
      "outputs": [],
      "source": [
        "# 02\n",
        "# Create a tuple with 3 items: a name, age, and city.\n",
        "# Print each value on a separate line.\n"
      ]
    },
    {
      "cell_type": "code",
      "execution_count": 4,
      "id": "b80702ec-0664-46a8-9ef1-dc780d0bc27d",
      "metadata": {
        "colab": {
          "base_uri": "https://localhost:8080/"
        },
        "id": "b80702ec-0664-46a8-9ef1-dc780d0bc27d",
        "outputId": "0aacd9c1-7eef-4baa-aa75-f8ee876d5d71"
      },
      "outputs": [
        {
          "output_type": "stream",
          "name": "stdout",
          "text": [
            "your first element is name \n",
            "Your second element is age \n",
            "Your third element is city\n"
          ]
        }
      ],
      "source": [
        "# answer 02:\n",
        "my_tuple = (\"name\", \"age\", \"city\")\n",
        "print(f\"your first element is {my_tuple[0]}\")\n",
        "print(f\"Your second element is {my_tuple[1]}\")\n",
        "print(f\" Your third element is {my_tuple[2]}\")"
      ]
    },
    {
      "cell_type": "code",
      "execution_count": null,
      "metadata": {
        "colab": {
          "base_uri": "https://localhost:8080/"
        },
        "outputId": "0aacd9c1-7eef-4baa-aa75-f8ee876d5d71",
        "id": "DxvoV0008v7j"
      },
      "outputs": [
        {
          "output_type": "stream",
          "name": "stdout",
          "text": [
            "your first element is name \n",
            "Your second element is age \n",
            "Your third element is city\n"
          ]
        }
      ],
      "source": [
        "# answer 02:\n",
        "my_tuple = (\"name\", \"age\", \"city\")\n",
        "print(f\"Your first element is {my_tuple[0]} \\nYour second element is {my_tuple[1]} \\nYour third element is {my_tuple[2]}\")\n"
      ],
      "id": "DxvoV0008v7j"
    },
    {
      "cell_type": "code",
      "source": [
        "name = input(\"Please enter your name: \").strip(\" \").strip(\"\\n\").capitalize()\n",
        "age = input(\"Please enter your age: \").strip(\" \").strip(\"\\n\")\n",
        "city = input(\"Please enter your city: \").strip(\" \").strip(\"\\n\").capitalize()\n",
        "my_tuple = (name, age, city)\n",
        "print(f\" Your name is {my_tuple[0]}\")\n",
        "print(f\" Your age is {my_tuple[1]}\")\n",
        "print(f\" Your city is {my_tuple[2]}\")"
      ],
      "metadata": {
        "id": "0R_eJa2f6eO8"
      },
      "id": "0R_eJa2f6eO8",
      "execution_count": null,
      "outputs": []
    },
    {
      "cell_type": "code",
      "source": [
        "name = input(\"Please enter your name: \").strip(\" \").strip(\"\\n\").capitalize()\n",
        "age = input(\"Please enter your age: \").strip(\" \").strip(\"\\n\")\n",
        "\n",
        "\n",
        "while True:\n",
        "  if age.isnumeric():\n",
        "    break\n",
        "  else:\n",
        "    print(\"Invalid input. Please enter a number.\")\n",
        "    age = input(\"Please enter number of your age: \").strip(\" \").strip(\"\\n\")\n",
        "\n",
        "\n",
        "city = input(\"Please enter your city: \").strip(\" \").strip(\"\\n\").capitalize()\n",
        "\n",
        "my_tuple = (name, age, city)\n",
        "print(f\" Your name is {my_tuple[0]}\")\n",
        "print(f\" Your age is {my_tuple[1]}\")\n",
        "print(f\" Your city is {my_tuple[2]}\")"
      ],
      "metadata": {
        "id": "ziV81xpt7k1v"
      },
      "execution_count": null,
      "outputs": [],
      "id": "ziV81xpt7k1v"
    },
    {
      "cell_type": "code",
      "execution_count": null,
      "id": "050626d4-e033-4772-b019-340bf9f7dce9",
      "metadata": {
        "id": "050626d4-e033-4772-b019-340bf9f7dce9"
      },
      "outputs": [],
      "source": [
        "# 03\n",
        "# Create a dictionary with keys: \"name\", \"age\", and \"city\".\n",
        "# a. Print the value of \"name\".\n",
        "# b. Change the value of \"age\".\n",
        "# c. Add a new key \"hobby\"."
      ]
    },
    {
      "cell_type": "code",
      "execution_count": 6,
      "id": "76955dfb-d0c1-4bda-a230-3c95d5131526",
      "metadata": {
        "colab": {
          "base_uri": "https://localhost:8080/"
        },
        "id": "76955dfb-d0c1-4bda-a230-3c95d5131526",
        "outputId": "75112521-87b5-463e-a97c-d98d018833f8"
      },
      "outputs": [
        {
          "output_type": "stream",
          "name": "stdout",
          "text": [
            "Your name is Rayan\n",
            "Please enter your hobby: programming\n",
            "{'name': 'Rayan', 'age': 26, 'city': 'Tehran', 'hobby': 'programming'}\n"
          ]
        }
      ],
      "source": [
        "# answer 03:\n",
        "my_dict = {\"name\": \"rayan\".capitalize() , \"age\": 25, \"city\": \"tehran\".capitalize()}\n",
        "print(f\"Your name is {my_dict['name']}\")\n",
        "my_dict[\"age\"] = 26\n",
        "my_dict[\"hobby\"] = input(\"Please enter your hobby: \").capitalize()\n",
        "print(my_dict)"
      ]
    },
    {
      "cell_type": "code",
      "execution_count": null,
      "id": "9ae4e598-d9d9-4a03-987d-db7676f0ebad",
      "metadata": {
        "id": "9ae4e598-d9d9-4a03-987d-db7676f0ebad"
      },
      "outputs": [],
      "source": [
        "# 04\n",
        "# Ask the user to enter a number (use input()).\n",
        "# Check if the number is even or odd and print a message."
      ]
    },
    {
      "cell_type": "code",
      "execution_count": null,
      "id": "2185264a-de4c-4e54-b9ab-5d8ec8c15ae4",
      "metadata": {
        "id": "2185264a-de4c-4e54-b9ab-5d8ec8c15ae4"
      },
      "outputs": [],
      "source": [
        "# answer 04:\n",
        "# note: if the user input string, the code shows an error. It is not important in this practice for now.\n",
        "# Hint: example code for input a number\n",
        "\n",
        "while True:\n",
        "  input_number_str = input('Please input a number: ').strip(\" \").strip(\"\\n\")\n",
        "\n",
        "  if input_number_str.isnumeric():\n",
        "    input_number = int(input_number_str)\n",
        "    if input_number % 2 == 0:\n",
        "      print(\"Its an even number\")\n",
        "    else:\n",
        "      print(\"Its an odd number\")\n",
        "    break\n",
        "  else:\n",
        "    print(\"Invalid input.\")\n",
        "    continue"
      ]
    },
    {
      "cell_type": "code",
      "execution_count": null,
      "id": "ed30b3e2-c607-4294-bcb7-881e6ebef0dd",
      "metadata": {
        "id": "ed30b3e2-c607-4294-bcb7-881e6ebef0dd"
      },
      "outputs": [],
      "source": [
        "# 05\n",
        "# Given a variable `score`, print the grade:\n",
        "# 90+ => A\n",
        "# 80 – 89 => B\n",
        "# 70 – 79 => C\n",
        "# 60 – 69 => D\n",
        "# less than 60 => F"
      ]
    },
    {
      "cell_type": "code",
      "execution_count": null,
      "id": "7f85a7f0-d7c2-45b7-a0c8-0808d311ce61",
      "metadata": {
        "colab": {
          "base_uri": "https://localhost:8080/"
        },
        "id": "7f85a7f0-d7c2-45b7-a0c8-0808d311ce61",
        "outputId": "0ce8486a-f426-4d1d-8fb3-3b7681ff84af"
      },
      "outputs": [
        {
          "output_type": "stream",
          "name": "stdout",
          "text": [
            "Please enter your score (0-100)sa\n",
            "Invalid input.\n",
            "Please enter your score (0-100)sa\n",
            "Invalid input.\n"
          ]
        }
      ],
      "source": [
        "# answer 05:\n",
        "while True:\n",
        "  score_input = input(\"Please enter your score (0-100)\").strip(\" \").strip(\"\\n\")\n",
        "\n",
        "  if score_input.isnumeric():\n",
        "    score = int(score_input)\n",
        "\n",
        "    if 0 <= score <= 100:\n",
        "      if score >= 90:\n",
        "        print(\"Your grade is A\")\n",
        "      elif score >= 80:\n",
        "        print(\"Your grade is B\")\n",
        "      elif score >= 70:\n",
        "        print(\"Your grade is C\")\n",
        "      elif score >= 60:\n",
        "        print(\"Your grade is D\")\n",
        "      else:\n",
        "        print(\"Your grade is F\")\n",
        "      break\n",
        "    else:\n",
        "      print(\"Invalid score. Please enter a number between 0 and 100.\")\n",
        "  else:\n",
        "    print(\"Invalid input.\")"
      ]
    },
    {
      "cell_type": "code",
      "execution_count": null,
      "id": "9a3cb9fa-4eae-4269-8d1b-083182f87932",
      "metadata": {
        "id": "9a3cb9fa-4eae-4269-8d1b-083182f87932"
      },
      "outputs": [],
      "source": [
        "# 06\n",
        "# Given a list of numbers, print only the even ones."
      ]
    },
    {
      "cell_type": "code",
      "execution_count": 29,
      "id": "de3c258d-204d-441e-bf58-457480709094",
      "metadata": {
        "colab": {
          "base_uri": "https://localhost:8080/"
        },
        "id": "de3c258d-204d-441e-bf58-457480709094",
        "outputId": "ca5030e5-7362-4f45-a405-3aeeeb0c4caa"
      },
      "outputs": [
        {
          "output_type": "stream",
          "name": "stdout",
          "text": [
            "2\n",
            "4\n",
            "6\n",
            "8\n",
            "10\n"
          ]
        }
      ],
      "source": [
        "# answer 06:\n",
        "my_list_1 = [1, 2, 3, 4, 5, 6, 7, 8, 9, 10]\n",
        "for number in my_list_1:\n",
        "  if number % 2 == 0:\n",
        "    print(number)"
      ]
    },
    {
      "cell_type": "code",
      "source": [
        "my_list_1 = [1, 2, 3, 4, 5, 6, 7, 8, 9, 10]\n",
        "for number in my_list_1:\n",
        "  if number % 2 == 0:\n",
        "    print(number)"
      ],
      "metadata": {
        "id": "lnoH-0CtRzo-"
      },
      "id": "lnoH-0CtRzo-",
      "execution_count": null,
      "outputs": []
    },
    {
      "cell_type": "code",
      "execution_count": null,
      "id": "db7300f3-6e89-4e68-b9d0-c28d86527478",
      "metadata": {
        "id": "db7300f3-6e89-4e68-b9d0-c28d86527478"
      },
      "outputs": [],
      "source": [
        "# 07:\n",
        "# Given a list of words, print the ones that have more than 3 letters."
      ]
    },
    {
      "cell_type": "code",
      "execution_count": 25,
      "id": "bf508b9e-5c8e-4b58-917d-339ccd170464",
      "metadata": {
        "colab": {
          "base_uri": "https://localhost:8080/"
        },
        "id": "bf508b9e-5c8e-4b58-917d-339ccd170464",
        "outputId": "ac1240ac-85dd-48b6-8579-0f2484dd2163"
      },
      "outputs": [
        {
          "output_type": "stream",
          "name": "stdout",
          "text": [
            "apple\n",
            "banana\n",
            "cherry\n",
            "date\n",
            "elderberry\n"
          ]
        }
      ],
      "source": [
        "# answer 07:\n",
        "my_list = [\"apple\", \"banana\", \"cherry\", \"date\", \"elderberry\", \"ali\", \"Ana\",]\n",
        "for word in my_list:\n",
        "  if len(word) > 3:\n",
        "    print(word)"
      ]
    },
    {
      "cell_type": "code",
      "execution_count": null,
      "id": "53caba90-ad62-472b-8e2e-169239658571",
      "metadata": {
        "id": "53caba90-ad62-472b-8e2e-169239658571"
      },
      "outputs": [],
      "source": [
        "# 08:\n",
        "# make a list odd numbers from 1 to 999, then split it in half into two lists\n",
        "\n",
        "# hint:\n",
        "# original_list = [1, 3, 5, 7, 9, ..., 997, 999]\n",
        "# split the list\n",
        "# first_half = [1, 3, 5, 7, ..., 499]\n",
        "# second_half = [501, 503, 505, ..., 999]"
      ]
    },
    {
      "cell_type": "code",
      "execution_count": 24,
      "id": "8943a1a1-2edf-4b1b-83e9-29d559942f69",
      "metadata": {
        "colab": {
          "base_uri": "https://localhost:8080/"
        },
        "id": "8943a1a1-2edf-4b1b-83e9-29d559942f69",
        "outputId": "97829e3c-36ab-4efc-8b42-97325cf26ba1"
      },
      "outputs": [
        {
          "output_type": "stream",
          "name": "stdout",
          "text": [
            "[1, 3, 5, 7, 9, 11, 13, 15, 17, 19, 21, 23, 25, 27, 29, 31, 33, 35, 37, 39, 41, 43, 45, 47, 49, 51, 53, 55, 57, 59, 61, 63, 65, 67, 69, 71, 73, 75, 77, 79, 81, 83, 85, 87, 89, 91, 93, 95, 97, 99, 101, 103, 105, 107, 109, 111, 113, 115, 117, 119, 121, 123, 125, 127, 129, 131, 133, 135, 137, 139, 141, 143, 145, 147, 149, 151, 153, 155, 157, 159, 161, 163, 165, 167, 169, 171, 173, 175, 177, 179, 181, 183, 185, 187, 189, 191, 193, 195, 197, 199, 201, 203, 205, 207, 209, 211, 213, 215, 217, 219, 221, 223, 225, 227, 229, 231, 233, 235, 237, 239, 241, 243, 245, 247, 249, 251, 253, 255, 257, 259, 261, 263, 265, 267, 269, 271, 273, 275, 277, 279, 281, 283, 285, 287, 289, 291, 293, 295, 297, 299, 301, 303, 305, 307, 309, 311, 313, 315, 317, 319, 321, 323, 325, 327, 329, 331, 333, 335, 337, 339, 341, 343, 345, 347, 349, 351, 353, 355, 357, 359, 361, 363, 365, 367, 369, 371, 373, 375, 377, 379, 381, 383, 385, 387, 389, 391, 393, 395, 397, 399, 401, 403, 405, 407, 409, 411, 413, 415, 417, 419, 421, 423, 425, 427, 429, 431, 433, 435, 437, 439, 441, 443, 445, 447, 449, 451, 453, 455, 457, 459, 461, 463, 465, 467, 469, 471, 473, 475, 477, 479, 481, 483, 485, 487, 489, 491, 493, 495, 497, 499]\n",
            "[501, 503, 505, 507, 509, 511, 513, 515, 517, 519, 521, 523, 525, 527, 529, 531, 533, 535, 537, 539, 541, 543, 545, 547, 549, 551, 553, 555, 557, 559, 561, 563, 565, 567, 569, 571, 573, 575, 577, 579, 581, 583, 585, 587, 589, 591, 593, 595, 597, 599, 601, 603, 605, 607, 609, 611, 613, 615, 617, 619, 621, 623, 625, 627, 629, 631, 633, 635, 637, 639, 641, 643, 645, 647, 649, 651, 653, 655, 657, 659, 661, 663, 665, 667, 669, 671, 673, 675, 677, 679, 681, 683, 685, 687, 689, 691, 693, 695, 697, 699, 701, 703, 705, 707, 709, 711, 713, 715, 717, 719, 721, 723, 725, 727, 729, 731, 733, 735, 737, 739, 741, 743, 745, 747, 749, 751, 753, 755, 757, 759, 761, 763, 765, 767, 769, 771, 773, 775, 777, 779, 781, 783, 785, 787, 789, 791, 793, 795, 797, 799, 801, 803, 805, 807, 809, 811, 813, 815, 817, 819, 821, 823, 825, 827, 829, 831, 833, 835, 837, 839, 841, 843, 845, 847, 849, 851, 853, 855, 857, 859, 861, 863, 865, 867, 869, 871, 873, 875, 877, 879, 881, 883, 885, 887, 889, 891, 893, 895, 897, 899, 901, 903, 905, 907, 909, 911, 913, 915, 917, 919, 921, 923, 925, 927, 929, 931, 933, 935, 937, 939, 941, 943, 945, 947, 949, 951, 953, 955, 957, 959, 961, 963, 965, 967, 969, 971, 973, 975, 977, 979, 981, 983, 985, 987, 989, 991, 993, 995, 997, 999]\n"
          ]
        }
      ],
      "source": [
        "# answer 08:\n",
        "my_list = []\n",
        "for i in range(1, 1000):\n",
        "  if i % 2 != 0:\n",
        "    my_list.append(i)\n",
        "\n",
        "my_list_1 = my_list[:250]\n",
        "my_list_2 = my_list[250:]\n",
        "print(my_list_1)\n",
        "print(my_list_2)\n",
        "\n",
        "\n"
      ]
    }
  ],
  "metadata": {
    "kernelspec": {
      "display_name": "Python 3 (ipykernel)",
      "language": "python",
      "name": "python3"
    },
    "language_info": {
      "codemirror_mode": {
        "name": "ipython",
        "version": 3
      },
      "file_extension": ".py",
      "mimetype": "text/x-python",
      "name": "python",
      "nbconvert_exporter": "python",
      "pygments_lexer": "ipython3",
      "version": "3.13.0"
    },
    "colab": {
      "provenance": [],
      "include_colab_link": true
    }
  },
  "nbformat": 4,
  "nbformat_minor": 5
}